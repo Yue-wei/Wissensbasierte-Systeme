{
 "cells": [
  {
   "cell_type": "code",
   "execution_count": null,
   "metadata": {},
   "outputs": [],
   "source": [
    "name = input(\"Please enter your name: \").title().split(\",\")\n",
    "horoscope = input(\"Please enter your horoscope: \").split(\",\")\n",
    "\n",
    "\n",
    "message = \"Hi {},\\n\\nToday {} is in luck today. Your overall fortune is going to be great,and you're going to get some unexpected little surprises.\\n\\n\"\n",
    "\n",
    "for name, horoscope,  in zip(name, horoscope):\n",
    "    print(message.format(name, horoscope))\n"
   ]
  },
  {
   "cell_type": "code",
   "execution_count": null,
   "metadata": {},
   "outputs": [],
   "source": []
  }
 ],
 "metadata": {
  "kernelspec": {
   "display_name": "Python 3",
   "language": "python",
   "name": "python3"
  },
  "language_info": {
   "codemirror_mode": {
    "name": "ipython",
    "version": 3
   },
   "file_extension": ".py",
   "mimetype": "text/x-python",
   "name": "python",
   "nbconvert_exporter": "python",
   "pygments_lexer": "ipython3",
   "version": "3.8.2"
  }
 },
 "nbformat": 4,
 "nbformat_minor": 4
}
